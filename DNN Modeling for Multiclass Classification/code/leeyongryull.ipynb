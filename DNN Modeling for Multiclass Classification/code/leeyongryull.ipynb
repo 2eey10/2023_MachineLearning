{
 "cells": [
  {
   "cell_type": "markdown",
   "id": "9351823d",
   "metadata": {
    "papermill": {
     "duration": 0.007186,
     "end_time": "2023-06-20T07:44:26.533169",
     "exception": false,
     "start_time": "2023-06-20T07:44:26.525983",
     "status": "completed"
    },
    "tags": []
   },
   "source": [
    "<font color='tomato'><font color=\"#CC3D3D\"><p>\n",
    "# DNN Modeling for Multiclass Classification"
   ]
  },
  {
   "cell_type": "markdown",
   "id": "bea07790",
   "metadata": {
    "papermill": {
     "duration": 0.004941,
     "end_time": "2023-06-20T07:44:26.543445",
     "exception": false,
     "start_time": "2023-06-20T07:44:26.538504",
     "status": "completed"
    },
    "tags": []
   },
   "source": [
    "##### Import modules"
   ]
  },
  {
   "cell_type": "code",
   "execution_count": 1,
   "id": "8cdf2257",
   "metadata": {
    "execution": {
     "iopub.execute_input": "2023-06-20T07:44:26.555553Z",
     "iopub.status.busy": "2023-06-20T07:44:26.555106Z",
     "iopub.status.idle": "2023-06-20T07:44:35.006980Z",
     "shell.execute_reply": "2023-06-20T07:44:35.004803Z"
    },
    "papermill": {
     "duration": 8.461144,
     "end_time": "2023-06-20T07:44:35.009611",
     "exception": false,
     "start_time": "2023-06-20T07:44:26.548467",
     "status": "completed"
    },
    "tags": []
   },
   "outputs": [
    {
     "name": "stderr",
     "output_type": "stream",
     "text": [
      "/opt/conda/lib/python3.10/site-packages/tensorflow_io/python/ops/__init__.py:98: UserWarning: unable to load libtensorflow_io_plugins.so: unable to open file: libtensorflow_io_plugins.so, from paths: ['/opt/conda/lib/python3.10/site-packages/tensorflow_io/python/ops/libtensorflow_io_plugins.so']\n",
      "caused by: ['/opt/conda/lib/python3.10/site-packages/tensorflow_io/python/ops/libtensorflow_io_plugins.so: undefined symbol: _ZN3tsl6StatusC1EN10tensorflow5error4CodeESt17basic_string_viewIcSt11char_traitsIcEENS_14SourceLocationE']\n",
      "  warnings.warn(f\"unable to load libtensorflow_io_plugins.so: {e}\")\n",
      "/opt/conda/lib/python3.10/site-packages/tensorflow_io/python/ops/__init__.py:104: UserWarning: file system plugins are not loaded: unable to open file: libtensorflow_io.so, from paths: ['/opt/conda/lib/python3.10/site-packages/tensorflow_io/python/ops/libtensorflow_io.so']\n",
      "caused by: ['/opt/conda/lib/python3.10/site-packages/tensorflow_io/python/ops/libtensorflow_io.so: undefined symbol: _ZTVN10tensorflow13GcsFileSystemE']\n",
      "  warnings.warn(f\"file system plugins are not loaded: {e}\")\n"
     ]
    },
    {
     "name": "stdout",
     "output_type": "stream",
     "text": [
      "2.12.0\n"
     ]
    }
   ],
   "source": [
    "import pandas as pd\n",
    "import numpy as np\n",
    "import os\n",
    "import random\n",
    "from IPython.display import Image, clear_output\n",
    "import seaborn as sns\n",
    "import matplotlib.pylab as plt\n",
    "from matplotlib import font_manager, rc\n",
    "%matplotlib inline\n",
    "from sklearn.preprocessing import StandardScaler\n",
    "from sklearn.model_selection import train_test_split\n",
    "import tensorflow as tf\n",
    "from tensorflow import keras\n",
    "import keras_tuner as kt\n",
    "print(tf.__version__)"
   ]
  },
  {
   "cell_type": "markdown",
   "id": "dad34521",
   "metadata": {
    "papermill": {
     "duration": 0.005536,
     "end_time": "2023-06-20T07:44:35.020880",
     "exception": false,
     "start_time": "2023-06-20T07:44:35.015344",
     "status": "completed"
    },
    "tags": []
   },
   "source": [
    "##### Set random seeds to make your results reproducible"
   ]
  },
  {
   "cell_type": "code",
   "execution_count": 2,
   "id": "e2398411",
   "metadata": {
    "execution": {
     "iopub.execute_input": "2023-06-20T07:44:35.033676Z",
     "iopub.status.busy": "2023-06-20T07:44:35.033059Z",
     "iopub.status.idle": "2023-06-20T07:44:35.039764Z",
     "shell.execute_reply": "2023-06-20T07:44:35.038798Z"
    },
    "papermill": {
     "duration": 0.015924,
     "end_time": "2023-06-20T07:44:35.042292",
     "exception": false,
     "start_time": "2023-06-20T07:44:35.026368",
     "status": "completed"
    },
    "tags": []
   },
   "outputs": [],
   "source": [
    "# 매번 모델링을 할 때마다 동일한 결과를 얻으려면 아래 코드를 실행해야 함.\n",
    "\n",
    "def reset_seeds(seed, reset_graph_with_backend=None):\n",
    "    if reset_graph_with_backend is not None:\n",
    "        K = reset_graph_with_backend\n",
    "        K.clear_session()\n",
    "        tf.compat.v1.reset_default_graph()\n",
    "        print(\"KERAS AND TENSORFLOW GRAPHS RESET\")  # optional\n",
    "\n",
    "    np.random.seed(seed)\n",
    "    random.seed(seed)\n",
    "    tf.compat.v1.set_random_seed(seed)\n",
    "#    os.environ['CUDA_VISIBLE_DEVICES'] = ''  # for GPU\n",
    "reset_seeds(0)"
   ]
  },
  {
   "cell_type": "markdown",
   "id": "c5d145ad",
   "metadata": {
    "papermill": {
     "duration": 0.005229,
     "end_time": "2023-06-20T07:44:35.052950",
     "exception": false,
     "start_time": "2023-06-20T07:44:35.047721",
     "status": "completed"
    },
    "tags": []
   },
   "source": [
    "### Step 1: Load and process the data"
   ]
  },
  {
   "cell_type": "markdown",
   "id": "e53dddb0",
   "metadata": {
    "papermill": {
     "duration": 0.005181,
     "end_time": "2023-06-20T07:44:35.063485",
     "exception": false,
     "start_time": "2023-06-20T07:44:35.058304",
     "status": "completed"
    },
    "tags": []
   },
   "source": [
    "##### Read data"
   ]
  },
  {
   "cell_type": "code",
   "execution_count": 3,
   "id": "8bd1c59e",
   "metadata": {
    "execution": {
     "iopub.execute_input": "2023-06-20T07:44:35.076083Z",
     "iopub.status.busy": "2023-06-20T07:44:35.075229Z",
     "iopub.status.idle": "2023-06-20T07:44:37.166731Z",
     "shell.execute_reply": "2023-06-20T07:44:37.165737Z"
    },
    "papermill": {
     "duration": 2.100005,
     "end_time": "2023-06-20T07:44:37.168934",
     "exception": false,
     "start_time": "2023-06-20T07:44:35.068929",
     "status": "completed"
    },
    "tags": []
   },
   "outputs": [
    {
     "data": {
      "text/html": [
       "<div>\n",
       "<style scoped>\n",
       "    .dataframe tbody tr th:only-of-type {\n",
       "        vertical-align: middle;\n",
       "    }\n",
       "\n",
       "    .dataframe tbody tr th {\n",
       "        vertical-align: top;\n",
       "    }\n",
       "\n",
       "    .dataframe thead th {\n",
       "        text-align: right;\n",
       "    }\n",
       "</style>\n",
       "<table border=\"1\" class=\"dataframe\">\n",
       "  <thead>\n",
       "    <tr style=\"text-align: right;\">\n",
       "      <th></th>\n",
       "      <th>f000</th>\n",
       "      <th>f001</th>\n",
       "      <th>f002</th>\n",
       "      <th>f003</th>\n",
       "      <th>f004</th>\n",
       "      <th>f005</th>\n",
       "      <th>f006</th>\n",
       "      <th>f007</th>\n",
       "      <th>f008</th>\n",
       "      <th>f009</th>\n",
       "      <th>...</th>\n",
       "      <th>f118</th>\n",
       "      <th>f119</th>\n",
       "      <th>f120</th>\n",
       "      <th>f121</th>\n",
       "      <th>f122</th>\n",
       "      <th>f123</th>\n",
       "      <th>f124</th>\n",
       "      <th>f125</th>\n",
       "      <th>f126</th>\n",
       "      <th>f127</th>\n",
       "    </tr>\n",
       "  </thead>\n",
       "  <tbody>\n",
       "    <tr>\n",
       "      <th>0</th>\n",
       "      <td>0.154932</td>\n",
       "      <td>0.105392</td>\n",
       "      <td>0.068760</td>\n",
       "      <td>0.213738</td>\n",
       "      <td>0.178632</td>\n",
       "      <td>0.185432</td>\n",
       "      <td>0.115931</td>\n",
       "      <td>0.220182</td>\n",
       "      <td>0.049942</td>\n",
       "      <td>0.053519</td>\n",
       "      <td>...</td>\n",
       "      <td>0.129909</td>\n",
       "      <td>0.019110</td>\n",
       "      <td>0.155175</td>\n",
       "      <td>0.118905</td>\n",
       "      <td>0.128475</td>\n",
       "      <td>0.194789</td>\n",
       "      <td>0.250839</td>\n",
       "      <td>0.114440</td>\n",
       "      <td>0.188980</td>\n",
       "      <td>0.124858</td>\n",
       "    </tr>\n",
       "    <tr>\n",
       "      <th>1</th>\n",
       "      <td>0.150265</td>\n",
       "      <td>0.113493</td>\n",
       "      <td>0.053723</td>\n",
       "      <td>0.279898</td>\n",
       "      <td>0.220548</td>\n",
       "      <td>0.216846</td>\n",
       "      <td>0.142696</td>\n",
       "      <td>0.249474</td>\n",
       "      <td>0.080952</td>\n",
       "      <td>0.048257</td>\n",
       "      <td>...</td>\n",
       "      <td>0.147738</td>\n",
       "      <td>0.064068</td>\n",
       "      <td>0.207723</td>\n",
       "      <td>0.158806</td>\n",
       "      <td>0.149532</td>\n",
       "      <td>0.215697</td>\n",
       "      <td>0.397651</td>\n",
       "      <td>0.184792</td>\n",
       "      <td>0.182523</td>\n",
       "      <td>0.161461</td>\n",
       "    </tr>\n",
       "    <tr>\n",
       "      <th>2</th>\n",
       "      <td>0.163253</td>\n",
       "      <td>0.206024</td>\n",
       "      <td>0.179661</td>\n",
       "      <td>0.253725</td>\n",
       "      <td>0.175406</td>\n",
       "      <td>0.261342</td>\n",
       "      <td>0.212712</td>\n",
       "      <td>0.190733</td>\n",
       "      <td>0.200579</td>\n",
       "      <td>0.076563</td>\n",
       "      <td>...</td>\n",
       "      <td>0.178145</td>\n",
       "      <td>0.087018</td>\n",
       "      <td>0.246528</td>\n",
       "      <td>0.208857</td>\n",
       "      <td>0.079992</td>\n",
       "      <td>0.257902</td>\n",
       "      <td>0.419524</td>\n",
       "      <td>0.318593</td>\n",
       "      <td>0.067054</td>\n",
       "      <td>0.224041</td>\n",
       "    </tr>\n",
       "    <tr>\n",
       "      <th>3</th>\n",
       "      <td>0.119036</td>\n",
       "      <td>0.094877</td>\n",
       "      <td>0.061333</td>\n",
       "      <td>0.186340</td>\n",
       "      <td>0.070998</td>\n",
       "      <td>0.166113</td>\n",
       "      <td>0.163255</td>\n",
       "      <td>0.219687</td>\n",
       "      <td>0.068889</td>\n",
       "      <td>0.096517</td>\n",
       "      <td>...</td>\n",
       "      <td>0.057782</td>\n",
       "      <td>0.054187</td>\n",
       "      <td>0.218044</td>\n",
       "      <td>0.099540</td>\n",
       "      <td>0.154490</td>\n",
       "      <td>0.144451</td>\n",
       "      <td>0.194623</td>\n",
       "      <td>0.195095</td>\n",
       "      <td>0.159906</td>\n",
       "      <td>0.086877</td>\n",
       "    </tr>\n",
       "    <tr>\n",
       "      <th>4</th>\n",
       "      <td>0.216432</td>\n",
       "      <td>0.172594</td>\n",
       "      <td>0.221798</td>\n",
       "      <td>0.295499</td>\n",
       "      <td>0.245131</td>\n",
       "      <td>0.402211</td>\n",
       "      <td>0.161807</td>\n",
       "      <td>0.313463</td>\n",
       "      <td>0.118416</td>\n",
       "      <td>0.073019</td>\n",
       "      <td>...</td>\n",
       "      <td>0.261979</td>\n",
       "      <td>0.078613</td>\n",
       "      <td>0.318539</td>\n",
       "      <td>0.224083</td>\n",
       "      <td>0.143784</td>\n",
       "      <td>0.372206</td>\n",
       "      <td>0.367924</td>\n",
       "      <td>0.301673</td>\n",
       "      <td>0.187598</td>\n",
       "      <td>0.246487</td>\n",
       "    </tr>\n",
       "  </tbody>\n",
       "</table>\n",
       "<p>5 rows × 128 columns</p>\n",
       "</div>"
      ],
      "text/plain": [
       "       f000      f001      f002      f003      f004      f005      f006  \\\n",
       "0  0.154932  0.105392  0.068760  0.213738  0.178632  0.185432  0.115931   \n",
       "1  0.150265  0.113493  0.053723  0.279898  0.220548  0.216846  0.142696   \n",
       "2  0.163253  0.206024  0.179661  0.253725  0.175406  0.261342  0.212712   \n",
       "3  0.119036  0.094877  0.061333  0.186340  0.070998  0.166113  0.163255   \n",
       "4  0.216432  0.172594  0.221798  0.295499  0.245131  0.402211  0.161807   \n",
       "\n",
       "       f007      f008      f009  ...      f118      f119      f120      f121  \\\n",
       "0  0.220182  0.049942  0.053519  ...  0.129909  0.019110  0.155175  0.118905   \n",
       "1  0.249474  0.080952  0.048257  ...  0.147738  0.064068  0.207723  0.158806   \n",
       "2  0.190733  0.200579  0.076563  ...  0.178145  0.087018  0.246528  0.208857   \n",
       "3  0.219687  0.068889  0.096517  ...  0.057782  0.054187  0.218044  0.099540   \n",
       "4  0.313463  0.118416  0.073019  ...  0.261979  0.078613  0.318539  0.224083   \n",
       "\n",
       "       f122      f123      f124      f125      f126      f127  \n",
       "0  0.128475  0.194789  0.250839  0.114440  0.188980  0.124858  \n",
       "1  0.149532  0.215697  0.397651  0.184792  0.182523  0.161461  \n",
       "2  0.079992  0.257902  0.419524  0.318593  0.067054  0.224041  \n",
       "3  0.154490  0.144451  0.194623  0.195095  0.159906  0.086877  \n",
       "4  0.143784  0.372206  0.367924  0.301673  0.187598  0.246487  \n",
       "\n",
       "[5 rows x 128 columns]"
      ]
     },
     "execution_count": 3,
     "metadata": {},
     "output_type": "execute_result"
    }
   ],
   "source": [
    "X_train = pd.read_csv('/kaggle/input/ml-final-exam-type-01/X_train_exam_01.csv', encoding='cp949').drop('custid', axis=1)\n",
    "y_train = pd.read_csv('/kaggle/input/ml-final-exam-type-01/y_train_exam_01.csv').group\n",
    "X_test = pd.read_csv('/kaggle/input/ml-final-exam-type-01/X_test_exam_01.csv', encoding='cp949')\n",
    "IDtest = X_test.ID.unique()\n",
    "X_test = X_test.drop('ID', axis=1)\n",
    "\n",
    "X_train.head()"
   ]
  },
  {
   "cell_type": "code",
   "execution_count": 4,
   "id": "3359c43d",
   "metadata": {
    "execution": {
     "iopub.execute_input": "2023-06-20T07:44:37.184578Z",
     "iopub.status.busy": "2023-06-20T07:44:37.182958Z",
     "iopub.status.idle": "2023-06-20T07:44:37.213686Z",
     "shell.execute_reply": "2023-06-20T07:44:37.212681Z"
    },
    "papermill": {
     "duration": 0.041159,
     "end_time": "2023-06-20T07:44:37.216192",
     "exception": false,
     "start_time": "2023-06-20T07:44:37.175033",
     "status": "completed"
    },
    "tags": []
   },
   "outputs": [
    {
     "data": {
      "text/html": [
       "<div>\n",
       "<style scoped>\n",
       "    .dataframe tbody tr th:only-of-type {\n",
       "        vertical-align: middle;\n",
       "    }\n",
       "\n",
       "    .dataframe tbody tr th {\n",
       "        vertical-align: top;\n",
       "    }\n",
       "\n",
       "    .dataframe thead th {\n",
       "        text-align: right;\n",
       "    }\n",
       "</style>\n",
       "<table border=\"1\" class=\"dataframe\">\n",
       "  <thead>\n",
       "    <tr style=\"text-align: right;\">\n",
       "      <th></th>\n",
       "      <th>f000</th>\n",
       "      <th>f001</th>\n",
       "      <th>f002</th>\n",
       "      <th>f003</th>\n",
       "      <th>f004</th>\n",
       "      <th>f005</th>\n",
       "      <th>f006</th>\n",
       "      <th>f007</th>\n",
       "      <th>f008</th>\n",
       "      <th>f009</th>\n",
       "      <th>...</th>\n",
       "      <th>f118</th>\n",
       "      <th>f119</th>\n",
       "      <th>f120</th>\n",
       "      <th>f121</th>\n",
       "      <th>f122</th>\n",
       "      <th>f123</th>\n",
       "      <th>f124</th>\n",
       "      <th>f125</th>\n",
       "      <th>f126</th>\n",
       "      <th>f127</th>\n",
       "    </tr>\n",
       "  </thead>\n",
       "  <tbody>\n",
       "    <tr>\n",
       "      <th>0</th>\n",
       "      <td>0.186928</td>\n",
       "      <td>0.236612</td>\n",
       "      <td>0.151582</td>\n",
       "      <td>0.246867</td>\n",
       "      <td>0.188600</td>\n",
       "      <td>0.281135</td>\n",
       "      <td>0.235516</td>\n",
       "      <td>0.335446</td>\n",
       "      <td>0.126411</td>\n",
       "      <td>0.105279</td>\n",
       "      <td>...</td>\n",
       "      <td>0.279986</td>\n",
       "      <td>0.107806</td>\n",
       "      <td>0.261662</td>\n",
       "      <td>0.254477</td>\n",
       "      <td>0.223843</td>\n",
       "      <td>0.314329</td>\n",
       "      <td>0.393487</td>\n",
       "      <td>0.299639</td>\n",
       "      <td>0.230062</td>\n",
       "      <td>0.295807</td>\n",
       "    </tr>\n",
       "    <tr>\n",
       "      <th>1</th>\n",
       "      <td>0.226584</td>\n",
       "      <td>0.147807</td>\n",
       "      <td>0.209941</td>\n",
       "      <td>0.334282</td>\n",
       "      <td>0.323352</td>\n",
       "      <td>0.386690</td>\n",
       "      <td>0.249437</td>\n",
       "      <td>0.233099</td>\n",
       "      <td>0.200480</td>\n",
       "      <td>0.097772</td>\n",
       "      <td>...</td>\n",
       "      <td>0.218542</td>\n",
       "      <td>0.095887</td>\n",
       "      <td>0.353289</td>\n",
       "      <td>0.319915</td>\n",
       "      <td>0.150229</td>\n",
       "      <td>0.423384</td>\n",
       "      <td>0.319990</td>\n",
       "      <td>0.436102</td>\n",
       "      <td>0.223772</td>\n",
       "      <td>0.280925</td>\n",
       "    </tr>\n",
       "    <tr>\n",
       "      <th>2</th>\n",
       "      <td>0.381486</td>\n",
       "      <td>0.142430</td>\n",
       "      <td>0.201592</td>\n",
       "      <td>0.320655</td>\n",
       "      <td>0.428212</td>\n",
       "      <td>0.281375</td>\n",
       "      <td>0.354500</td>\n",
       "      <td>0.306253</td>\n",
       "      <td>0.114626</td>\n",
       "      <td>0.127123</td>\n",
       "      <td>...</td>\n",
       "      <td>0.232521</td>\n",
       "      <td>0.093212</td>\n",
       "      <td>0.483181</td>\n",
       "      <td>0.191766</td>\n",
       "      <td>0.238918</td>\n",
       "      <td>0.201433</td>\n",
       "      <td>0.487794</td>\n",
       "      <td>0.416235</td>\n",
       "      <td>0.225339</td>\n",
       "      <td>0.188479</td>\n",
       "    </tr>\n",
       "    <tr>\n",
       "      <th>3</th>\n",
       "      <td>0.129486</td>\n",
       "      <td>0.047447</td>\n",
       "      <td>0.061566</td>\n",
       "      <td>0.226807</td>\n",
       "      <td>0.126336</td>\n",
       "      <td>0.096881</td>\n",
       "      <td>0.132472</td>\n",
       "      <td>0.195766</td>\n",
       "      <td>0.046641</td>\n",
       "      <td>0.058983</td>\n",
       "      <td>...</td>\n",
       "      <td>0.042702</td>\n",
       "      <td>0.049092</td>\n",
       "      <td>0.166698</td>\n",
       "      <td>0.079480</td>\n",
       "      <td>0.148053</td>\n",
       "      <td>0.128012</td>\n",
       "      <td>0.210556</td>\n",
       "      <td>0.125125</td>\n",
       "      <td>0.173955</td>\n",
       "      <td>0.110259</td>\n",
       "    </tr>\n",
       "    <tr>\n",
       "      <th>4</th>\n",
       "      <td>0.168421</td>\n",
       "      <td>0.007434</td>\n",
       "      <td>0.056049</td>\n",
       "      <td>0.185010</td>\n",
       "      <td>0.192001</td>\n",
       "      <td>0.157723</td>\n",
       "      <td>0.131293</td>\n",
       "      <td>0.258516</td>\n",
       "      <td>0.095254</td>\n",
       "      <td>0.086407</td>\n",
       "      <td>...</td>\n",
       "      <td>0.095879</td>\n",
       "      <td>0.073159</td>\n",
       "      <td>0.236936</td>\n",
       "      <td>0.077118</td>\n",
       "      <td>0.187750</td>\n",
       "      <td>0.157764</td>\n",
       "      <td>0.271188</td>\n",
       "      <td>0.281863</td>\n",
       "      <td>0.175666</td>\n",
       "      <td>0.132243</td>\n",
       "    </tr>\n",
       "    <tr>\n",
       "      <th>...</th>\n",
       "      <td>...</td>\n",
       "      <td>...</td>\n",
       "      <td>...</td>\n",
       "      <td>...</td>\n",
       "      <td>...</td>\n",
       "      <td>...</td>\n",
       "      <td>...</td>\n",
       "      <td>...</td>\n",
       "      <td>...</td>\n",
       "      <td>...</td>\n",
       "      <td>...</td>\n",
       "      <td>...</td>\n",
       "      <td>...</td>\n",
       "      <td>...</td>\n",
       "      <td>...</td>\n",
       "      <td>...</td>\n",
       "      <td>...</td>\n",
       "      <td>...</td>\n",
       "      <td>...</td>\n",
       "      <td>...</td>\n",
       "      <td>...</td>\n",
       "    </tr>\n",
       "    <tr>\n",
       "      <th>14375</th>\n",
       "      <td>0.192915</td>\n",
       "      <td>0.057987</td>\n",
       "      <td>0.113944</td>\n",
       "      <td>0.257024</td>\n",
       "      <td>0.135439</td>\n",
       "      <td>0.091235</td>\n",
       "      <td>0.148286</td>\n",
       "      <td>0.190808</td>\n",
       "      <td>0.034971</td>\n",
       "      <td>0.037820</td>\n",
       "      <td>...</td>\n",
       "      <td>0.076288</td>\n",
       "      <td>0.055579</td>\n",
       "      <td>0.141909</td>\n",
       "      <td>0.091076</td>\n",
       "      <td>0.081312</td>\n",
       "      <td>0.170171</td>\n",
       "      <td>0.209669</td>\n",
       "      <td>0.106173</td>\n",
       "      <td>0.127954</td>\n",
       "      <td>0.143608</td>\n",
       "    </tr>\n",
       "    <tr>\n",
       "      <th>14376</th>\n",
       "      <td>0.113116</td>\n",
       "      <td>0.050508</td>\n",
       "      <td>0.048262</td>\n",
       "      <td>0.131850</td>\n",
       "      <td>0.123769</td>\n",
       "      <td>0.093523</td>\n",
       "      <td>0.096673</td>\n",
       "      <td>0.165687</td>\n",
       "      <td>0.051292</td>\n",
       "      <td>0.047523</td>\n",
       "      <td>...</td>\n",
       "      <td>0.054266</td>\n",
       "      <td>0.040469</td>\n",
       "      <td>0.104967</td>\n",
       "      <td>0.063480</td>\n",
       "      <td>0.121991</td>\n",
       "      <td>0.118809</td>\n",
       "      <td>0.189553</td>\n",
       "      <td>0.128352</td>\n",
       "      <td>0.115699</td>\n",
       "      <td>0.088752</td>\n",
       "    </tr>\n",
       "    <tr>\n",
       "      <th>14377</th>\n",
       "      <td>0.132465</td>\n",
       "      <td>0.053969</td>\n",
       "      <td>0.064572</td>\n",
       "      <td>0.185991</td>\n",
       "      <td>0.085919</td>\n",
       "      <td>0.102365</td>\n",
       "      <td>0.107560</td>\n",
       "      <td>0.169459</td>\n",
       "      <td>0.056697</td>\n",
       "      <td>0.063935</td>\n",
       "      <td>...</td>\n",
       "      <td>0.072962</td>\n",
       "      <td>0.063038</td>\n",
       "      <td>0.102768</td>\n",
       "      <td>0.101284</td>\n",
       "      <td>0.140798</td>\n",
       "      <td>0.142324</td>\n",
       "      <td>0.198717</td>\n",
       "      <td>0.140842</td>\n",
       "      <td>0.128309</td>\n",
       "      <td>0.096450</td>\n",
       "    </tr>\n",
       "    <tr>\n",
       "      <th>14378</th>\n",
       "      <td>0.119209</td>\n",
       "      <td>0.051846</td>\n",
       "      <td>0.085827</td>\n",
       "      <td>0.167591</td>\n",
       "      <td>0.165892</td>\n",
       "      <td>0.108889</td>\n",
       "      <td>0.106144</td>\n",
       "      <td>0.139252</td>\n",
       "      <td>0.040647</td>\n",
       "      <td>0.052591</td>\n",
       "      <td>...</td>\n",
       "      <td>0.051763</td>\n",
       "      <td>0.031795</td>\n",
       "      <td>0.162942</td>\n",
       "      <td>0.136015</td>\n",
       "      <td>0.099129</td>\n",
       "      <td>0.124294</td>\n",
       "      <td>0.172459</td>\n",
       "      <td>0.151070</td>\n",
       "      <td>0.100101</td>\n",
       "      <td>0.110438</td>\n",
       "    </tr>\n",
       "    <tr>\n",
       "      <th>14379</th>\n",
       "      <td>0.107791</td>\n",
       "      <td>0.044652</td>\n",
       "      <td>0.111652</td>\n",
       "      <td>0.196613</td>\n",
       "      <td>0.153684</td>\n",
       "      <td>0.116905</td>\n",
       "      <td>0.045186</td>\n",
       "      <td>0.206479</td>\n",
       "      <td>0.052530</td>\n",
       "      <td>0.048905</td>\n",
       "      <td>...</td>\n",
       "      <td>0.133191</td>\n",
       "      <td>0.075505</td>\n",
       "      <td>0.144651</td>\n",
       "      <td>0.085099</td>\n",
       "      <td>0.147340</td>\n",
       "      <td>0.226112</td>\n",
       "      <td>0.276307</td>\n",
       "      <td>0.199102</td>\n",
       "      <td>0.105810</td>\n",
       "      <td>0.125303</td>\n",
       "    </tr>\n",
       "  </tbody>\n",
       "</table>\n",
       "<p>14380 rows × 128 columns</p>\n",
       "</div>"
      ],
      "text/plain": [
       "           f000      f001      f002      f003      f004      f005      f006  \\\n",
       "0      0.186928  0.236612  0.151582  0.246867  0.188600  0.281135  0.235516   \n",
       "1      0.226584  0.147807  0.209941  0.334282  0.323352  0.386690  0.249437   \n",
       "2      0.381486  0.142430  0.201592  0.320655  0.428212  0.281375  0.354500   \n",
       "3      0.129486  0.047447  0.061566  0.226807  0.126336  0.096881  0.132472   \n",
       "4      0.168421  0.007434  0.056049  0.185010  0.192001  0.157723  0.131293   \n",
       "...         ...       ...       ...       ...       ...       ...       ...   \n",
       "14375  0.192915  0.057987  0.113944  0.257024  0.135439  0.091235  0.148286   \n",
       "14376  0.113116  0.050508  0.048262  0.131850  0.123769  0.093523  0.096673   \n",
       "14377  0.132465  0.053969  0.064572  0.185991  0.085919  0.102365  0.107560   \n",
       "14378  0.119209  0.051846  0.085827  0.167591  0.165892  0.108889  0.106144   \n",
       "14379  0.107791  0.044652  0.111652  0.196613  0.153684  0.116905  0.045186   \n",
       "\n",
       "           f007      f008      f009  ...      f118      f119      f120  \\\n",
       "0      0.335446  0.126411  0.105279  ...  0.279986  0.107806  0.261662   \n",
       "1      0.233099  0.200480  0.097772  ...  0.218542  0.095887  0.353289   \n",
       "2      0.306253  0.114626  0.127123  ...  0.232521  0.093212  0.483181   \n",
       "3      0.195766  0.046641  0.058983  ...  0.042702  0.049092  0.166698   \n",
       "4      0.258516  0.095254  0.086407  ...  0.095879  0.073159  0.236936   \n",
       "...         ...       ...       ...  ...       ...       ...       ...   \n",
       "14375  0.190808  0.034971  0.037820  ...  0.076288  0.055579  0.141909   \n",
       "14376  0.165687  0.051292  0.047523  ...  0.054266  0.040469  0.104967   \n",
       "14377  0.169459  0.056697  0.063935  ...  0.072962  0.063038  0.102768   \n",
       "14378  0.139252  0.040647  0.052591  ...  0.051763  0.031795  0.162942   \n",
       "14379  0.206479  0.052530  0.048905  ...  0.133191  0.075505  0.144651   \n",
       "\n",
       "           f121      f122      f123      f124      f125      f126      f127  \n",
       "0      0.254477  0.223843  0.314329  0.393487  0.299639  0.230062  0.295807  \n",
       "1      0.319915  0.150229  0.423384  0.319990  0.436102  0.223772  0.280925  \n",
       "2      0.191766  0.238918  0.201433  0.487794  0.416235  0.225339  0.188479  \n",
       "3      0.079480  0.148053  0.128012  0.210556  0.125125  0.173955  0.110259  \n",
       "4      0.077118  0.187750  0.157764  0.271188  0.281863  0.175666  0.132243  \n",
       "...         ...       ...       ...       ...       ...       ...       ...  \n",
       "14375  0.091076  0.081312  0.170171  0.209669  0.106173  0.127954  0.143608  \n",
       "14376  0.063480  0.121991  0.118809  0.189553  0.128352  0.115699  0.088752  \n",
       "14377  0.101284  0.140798  0.142324  0.198717  0.140842  0.128309  0.096450  \n",
       "14378  0.136015  0.099129  0.124294  0.172459  0.151070  0.100101  0.110438  \n",
       "14379  0.085099  0.147340  0.226112  0.276307  0.199102  0.105810  0.125303  \n",
       "\n",
       "[14380 rows x 128 columns]"
      ]
     },
     "execution_count": 4,
     "metadata": {},
     "output_type": "execute_result"
    }
   ],
   "source": [
    "X_test"
   ]
  },
  {
   "cell_type": "markdown",
   "id": "f0570106",
   "metadata": {
    "papermill": {
     "duration": 0.005854,
     "end_time": "2023-06-20T07:44:37.228146",
     "exception": false,
     "start_time": "2023-06-20T07:44:37.222292",
     "status": "completed"
    },
    "tags": []
   },
   "source": [
    "##### One-hot-encode Target variable "
   ]
  },
  {
   "cell_type": "code",
   "execution_count": 5,
   "id": "5fa6ea44",
   "metadata": {
    "execution": {
     "iopub.execute_input": "2023-06-20T07:44:37.240952Z",
     "iopub.status.busy": "2023-06-20T07:44:37.240637Z",
     "iopub.status.idle": "2023-06-20T07:44:37.250569Z",
     "shell.execute_reply": "2023-06-20T07:44:37.249612Z"
    },
    "papermill": {
     "duration": 0.0187,
     "end_time": "2023-06-20T07:44:37.252677",
     "exception": false,
     "start_time": "2023-06-20T07:44:37.233977",
     "status": "completed"
    },
    "tags": []
   },
   "outputs": [],
   "source": [
    "# 8개의 범주형 타겟 값을 one-hot-encoding을 통해 8개의 컬럼으로 만들어야 함.\n",
    "y_train = keras.utils.to_categorical(y_train.astype('category').cat.codes)"
   ]
  },
  {
   "cell_type": "markdown",
   "id": "db8d4239",
   "metadata": {
    "papermill": {
     "duration": 0.006026,
     "end_time": "2023-06-20T07:44:37.264566",
     "exception": false,
     "start_time": "2023-06-20T07:44:37.258540",
     "status": "completed"
    },
    "tags": []
   },
   "source": [
    "##### Split data into train & validation set "
   ]
  },
  {
   "cell_type": "code",
   "execution_count": 6,
   "id": "02263e9d",
   "metadata": {
    "execution": {
     "iopub.execute_input": "2023-06-20T07:44:37.278351Z",
     "iopub.status.busy": "2023-06-20T07:44:37.277599Z",
     "iopub.status.idle": "2023-06-20T07:44:37.303211Z",
     "shell.execute_reply": "2023-06-20T07:44:37.301855Z"
    },
    "papermill": {
     "duration": 0.035155,
     "end_time": "2023-06-20T07:44:37.305628",
     "exception": false,
     "start_time": "2023-06-20T07:44:37.270473",
     "status": "completed"
    },
    "tags": []
   },
   "outputs": [],
   "source": [
    "# 학습 데이터를 다시 학습과 검증 데이터로 분할\n",
    "X_train, X_valid, y_train, y_valid = train_test_split(X_train, y_train, test_size=0.2, random_state=0)"
   ]
  },
  {
   "cell_type": "markdown",
   "id": "c6c42fe4",
   "metadata": {
    "papermill": {
     "duration": 0.00582,
     "end_time": "2023-06-20T07:44:37.317901",
     "exception": false,
     "start_time": "2023-06-20T07:44:37.312081",
     "status": "completed"
    },
    "tags": []
   },
   "source": [
    "##### Feature scaling"
   ]
  },
  {
   "cell_type": "code",
   "execution_count": 7,
   "id": "ce272db3",
   "metadata": {
    "execution": {
     "iopub.execute_input": "2023-06-20T07:44:37.331294Z",
     "iopub.status.busy": "2023-06-20T07:44:37.330972Z",
     "iopub.status.idle": "2023-06-20T07:44:37.382196Z",
     "shell.execute_reply": "2023-06-20T07:44:37.381071Z"
    },
    "papermill": {
     "duration": 0.060839,
     "end_time": "2023-06-20T07:44:37.384838",
     "exception": false,
     "start_time": "2023-06-20T07:44:37.323999",
     "status": "completed"
    },
    "tags": []
   },
   "outputs": [],
   "source": [
    "# DNN은 scale된 값을 입력값으로 사용해야 함.\n",
    "scaler = StandardScaler()\n",
    "X_train = scaler.fit_transform(X_train)\n",
    "X_valid = scaler.transform(X_valid)\n",
    "X_test = scaler.transform(X_test)"
   ]
  },
  {
   "cell_type": "markdown",
   "id": "6247e47b",
   "metadata": {
    "papermill": {
     "duration": 0.006761,
     "end_time": "2023-06-20T07:44:37.398236",
     "exception": false,
     "start_time": "2023-06-20T07:44:37.391475",
     "status": "completed"
    },
    "tags": []
   },
   "source": [
    "### Step 2: Define the hyper-model"
   ]
  },
  {
   "cell_type": "code",
   "execution_count": 8,
   "id": "1d679fd1",
   "metadata": {
    "execution": {
     "iopub.execute_input": "2023-06-20T07:44:37.412278Z",
     "iopub.status.busy": "2023-06-20T07:44:37.411903Z",
     "iopub.status.idle": "2023-06-20T07:44:37.421733Z",
     "shell.execute_reply": "2023-06-20T07:44:37.420820Z"
    },
    "papermill": {
     "duration": 0.019366,
     "end_time": "2023-06-20T07:44:37.424103",
     "exception": false,
     "start_time": "2023-06-20T07:44:37.404737",
     "status": "completed"
    },
    "tags": []
   },
   "outputs": [],
   "source": [
    "def model_fn(hp):\n",
    "    inputs = keras.Input(shape=(X_train.shape[1],))\n",
    "    x = inputs\n",
    "    for i in range(hp.Int('num_layers', 3, 5)):\n",
    "        x = keras.layers.Dense(hp.Int('unit_'+str(i), 32, 128, step=32), activation=hp.Choice('activation_'+str(i), ['relu','softmax']))(x)\n",
    "\n",
    "        x = keras.layers.Dropout(hp.Float('dropout_'+str(i), 0, 0.5, step=0.25, default=0.5))(x)\n",
    "    outputs = keras.layers.Dense(8, activation='softmax')(x) # 예측값이 8종류이므로 8개 출력 뉴런 필요\n",
    "    model = keras.Model(inputs, outputs)\n",
    "    model.compile(loss='categorical_crossentropy', # Multiclass Classification에서 사용하는 loss function\n",
    "                  optimizer=tf.keras.optimizers.Adam(hp.Choice('learning_rate', [1e-2, 1e-3, 1e-4])), \n",
    "                  metrics=[keras.metrics.CategoricalCrossentropy()]) # Multiclass Classification에서 사용하는 평가지표\n",
    "    return model"
   ]
  },
  {
   "cell_type": "markdown",
   "id": "418fca85",
   "metadata": {
    "papermill": {
     "duration": 0.005838,
     "end_time": "2023-06-20T07:44:37.436084",
     "exception": false,
     "start_time": "2023-06-20T07:44:37.430246",
     "status": "completed"
    },
    "tags": []
   },
   "source": [
    "### Step 3: Build multiple hyper-tuned models"
   ]
  },
  {
   "cell_type": "code",
   "execution_count": 9,
   "id": "d9e886be",
   "metadata": {
    "execution": {
     "iopub.execute_input": "2023-06-20T07:44:37.450064Z",
     "iopub.status.busy": "2023-06-20T07:44:37.449732Z",
     "iopub.status.idle": "2023-06-20T07:57:08.554673Z",
     "shell.execute_reply": "2023-06-20T07:57:08.553647Z"
    },
    "papermill": {
     "duration": 751.115242,
     "end_time": "2023-06-20T07:57:08.557465",
     "exception": false,
     "start_time": "2023-06-20T07:44:37.442223",
     "status": "completed"
    },
    "tags": []
   },
   "outputs": [
    {
     "name": "stdout",
     "output_type": "stream",
     "text": [
      "Trial 60 Complete [00h 00m 08s]\n",
      "val_categorical_crossentropy: 1.8547368049621582\n",
      "\n",
      "Best val_categorical_crossentropy So Far: 1.5840495824813843\n",
      "Total elapsed time: 00h 12m 28s\n",
      "Results summary\n",
      "Results in dnn_tuning/untitled_project\n",
      "Showing 1 best trials\n",
      "Objective(name=\"val_categorical_crossentropy\", direction=\"min\")\n",
      "\n",
      "Trial 0016 summary\n",
      "Hyperparameters:\n",
      "num_layers: 3\n",
      "unit_0: 96\n",
      "activation_0: relu\n",
      "dropout_0: 0.25\n",
      "unit_1: 128\n",
      "activation_1: relu\n",
      "dropout_1: 0.25\n",
      "unit_2: 32\n",
      "activation_2: relu\n",
      "dropout_2: 0.0\n",
      "learning_rate: 0.0001\n",
      "tuner/epochs: 10\n",
      "tuner/initial_epoch: 4\n",
      "tuner/bracket: 2\n",
      "tuner/round: 2\n",
      "tuner/trial_id: 0013\n",
      "unit_3: 128\n",
      "activation_3: relu\n",
      "dropout_3: 0.0\n",
      "unit_4: 32\n",
      "activation_4: softmax\n",
      "dropout_4: 0.5\n",
      "Score: 1.5840495824813843\n"
     ]
    }
   ],
   "source": [
    "tuner = kt.Hyperband(model_fn,\n",
    "                     objective=kt.Objective('val_categorical_crossentropy', direction=\"min\"), \n",
    "                     max_epochs=10,\n",
    "                     hyperband_iterations=2,\n",
    "                     overwrite=True,\n",
    "                     directory='dnn_tuning')\n",
    "tuner.search(X_train, y_train, validation_data=(X_valid, y_valid), \n",
    "             callbacks=[tf.keras.callbacks.EarlyStopping(patience=1)])\n",
    "model = tuner.get_best_models(1)[0]  \n",
    "tuner.results_summary(1)"
   ]
  },
  {
   "cell_type": "markdown",
   "id": "7b4ca8fc",
   "metadata": {
    "papermill": {
     "duration": 0.006273,
     "end_time": "2023-06-20T07:57:08.570587",
     "exception": false,
     "start_time": "2023-06-20T07:57:08.564314",
     "status": "completed"
    },
    "tags": []
   },
   "source": [
    "### Step 4: Make submissions"
   ]
  },
  {
   "cell_type": "code",
   "execution_count": 10,
   "id": "f48f97a5",
   "metadata": {
    "execution": {
     "iopub.execute_input": "2023-06-20T07:57:08.585268Z",
     "iopub.status.busy": "2023-06-20T07:57:08.584909Z",
     "iopub.status.idle": "2023-06-20T07:57:09.925091Z",
     "shell.execute_reply": "2023-06-20T07:57:09.923663Z"
    },
    "papermill": {
     "duration": 1.35017,
     "end_time": "2023-06-20T07:57:09.927316",
     "exception": false,
     "start_time": "2023-06-20T07:57:08.577146",
     "status": "completed"
    },
    "tags": []
   },
   "outputs": [
    {
     "name": "stdout",
     "output_type": "stream",
     "text": [
      "450/450 [==============================] - 1s 2ms/step\n",
      "'dnn_submission_06200757.csv' is ready to submit.\n"
     ]
    }
   ],
   "source": [
    "t = pd.Timestamp.now()\n",
    "fname = f\"dnn_submission_{t.month:02}{t.day:02}{t.hour:02}{t.minute:02}.csv\"\n",
    "pred = pd.DataFrame(model.predict(X_test))\n",
    "pred.columns = ['F20','F30','F40','F50','M20','M30','M40','M50']\n",
    "pd.concat([pd.Series(IDtest, name=\"ID\"), pred] ,axis=1).to_csv(fname, index=False)\n"
   ]
  },
  {
   "cell_type": "markdown",
   "id": "681917e6",
   "metadata": {
    "papermill": {
     "duration": 0.007496,
     "end_time": "2023-06-20T07:57:09.942645",
     "exception": false,
     "start_time": "2023-06-20T07:57:09.935149",
     "status": "completed"
    },
    "tags": []
   },
   "source": [
    "<font color=\"#CC3D3D\"><p>\n",
    "# End"
   ]
  }
 ],
 "metadata": {
  "kernelspec": {
   "display_name": "Python 3",
   "language": "python",
   "name": "python3"
  },
  "language_info": {
   "codemirror_mode": {
    "name": "ipython",
    "version": 3
   },
   "file_extension": ".py",
   "mimetype": "text/x-python",
   "name": "python",
   "nbconvert_exporter": "python",
   "pygments_lexer": "ipython3",
   "version": "3.10.10"
  },
  "papermill": {
   "default_parameters": {},
   "duration": 777.117865,
   "end_time": "2023-06-20T07:57:13.078559",
   "environment_variables": {},
   "exception": null,
   "input_path": "__notebook__.ipynb",
   "output_path": "__notebook__.ipynb",
   "parameters": {},
   "start_time": "2023-06-20T07:44:15.960694",
   "version": "2.4.0"
  }
 },
 "nbformat": 4,
 "nbformat_minor": 5
}
